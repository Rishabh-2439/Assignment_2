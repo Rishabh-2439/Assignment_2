{
 "cells": [
  {
   "cell_type": "code",
   "execution_count": 5,
   "id": "2a9819c0",
   "metadata": {},
   "outputs": [
    {
     "name": "stdout",
     "output_type": "stream",
     "text": [
      "[(2, 1), (1, 2), (2, 3), (4, 4), (2, 5)]\n"
     ]
    }
   ],
   "source": [
    "def last(list):\n",
    "    return list[-1]\n",
    "def sorted_list(tuples):\n",
    "    return sorted(tuples, key=last)\n",
    "list_given= [(2, 5), (1, 2), (4, 4), (2, 3), (2, 1)]\n",
    "print(sorted_list(list_given))"
   ]
  },
  {
   "cell_type": "code",
   "execution_count": null,
   "id": "4aa9da0e",
   "metadata": {},
   "outputs": [],
   "source": []
  }
 ],
 "metadata": {
  "kernelspec": {
   "display_name": "Python 3 (ipykernel)",
   "language": "python",
   "name": "python3"
  },
  "language_info": {
   "codemirror_mode": {
    "name": "ipython",
    "version": 3
   },
   "file_extension": ".py",
   "mimetype": "text/x-python",
   "name": "python",
   "nbconvert_exporter": "python",
   "pygments_lexer": "ipython3",
   "version": "3.9.12"
  }
 },
 "nbformat": 4,
 "nbformat_minor": 5
}
